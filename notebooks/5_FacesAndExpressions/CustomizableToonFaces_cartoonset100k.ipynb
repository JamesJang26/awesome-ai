{
  "nbformat": 4,
  "nbformat_minor": 0,
  "metadata": {
    "kernelspec": {
      "name": "python3",
      "display_name": "Python 3"
    },
    "language_info": {
      "codemirror_mode": {
        "name": "ipython",
        "version": 3
      },
      "file_extension": ".py",
      "mimetype": "text/x-python",
      "name": "python",
      "nbconvert_exporter": "python",
      "pygments_lexer": "ipython3",
      "version": "3.7.5"
    },
    "colab": {
      "name": "Copy of cartoonset100k playground.ipynb",
      "provenance": [],
      "collapsed_sections": [
        "A7OX2bJAhsOm"
      ],
      "toc_visible": true,
      "include_colab_link": true
    },
    "accelerator": "GPU"
  },
  "cells": [
    {
      "cell_type": "markdown",
      "metadata": {
        "id": "view-in-github",
        "colab_type": "text"
      },
      "source": [
        "<a href=\"https://colab.research.google.com/github/kevinash/awesome-ai/blob/main/notebooks/5_FacesAndExpressions/CustomizableToonFaces_cartoonset100k.ipynb\" target=\"_parent\"><img src=\"https://colab.research.google.com/assets/colab-badge.svg\" alt=\"Open In Colab\"/></a>"
      ]
    },
    {
      "cell_type": "markdown",
      "metadata": {
        "id": "s4OXt4QBh8MU"
      },
      "source": [
        "# Set to False to use doc2vec embeddings"
      ]
    },
    {
      "cell_type": "code",
      "metadata": {
        "id": "xmGGuZYdfkz6"
      },
      "source": [
        "USE_ONEHOT = True"
      ],
      "execution_count": 1,
      "outputs": []
    },
    {
      "cell_type": "markdown",
      "metadata": {
        "id": "A7OX2bJAhsOm"
      },
      "source": [
        "#Run this stuff\n"
      ]
    },
    {
      "cell_type": "code",
      "metadata": {
        "id": "HygE2frPQJZg",
        "colab": {
          "base_uri": "https://localhost:8080/"
        },
        "outputId": "104643f6-023f-441d-b059-bf062f841e45"
      },
      "source": [
        "!git clone https://github.com/NVLabs/stylegan2 /content/stylegan2"
      ],
      "execution_count": 2,
      "outputs": [
        {
          "output_type": "stream",
          "text": [
            "Cloning into '/content/stylegan2'...\n",
            "remote: Enumerating objects: 127, done.\u001b[K\n",
            "remote: Total 127 (delta 0), reused 0 (delta 0), pack-reused 127\u001b[K\n",
            "Receiving objects: 100% (127/127), 591.90 KiB | 10.38 MiB/s, done.\n",
            "Resolving deltas: 100% (58/58), done.\n"
          ],
          "name": "stdout"
        }
      ]
    },
    {
      "cell_type": "code",
      "metadata": {
        "id": "g-T1favYQRW_",
        "colab": {
          "base_uri": "https://localhost:8080/"
        },
        "outputId": "622941b9-2f78-4350-b774-178db13eddfa"
      },
      "source": [
        "%tensorflow_version 1.x\n",
        "%cd /content/stylegan2"
      ],
      "execution_count": 3,
      "outputs": [
        {
          "output_type": "stream",
          "text": [
            "TensorFlow 1.x selected.\n",
            "/content/stylegan2\n"
          ],
          "name": "stdout"
        }
      ]
    },
    {
      "cell_type": "code",
      "metadata": {
        "id": "udUfr2HhNkag"
      },
      "source": [
        "import numpy as np\n",
        "import matplotlib.pyplot as plt\n",
        "from gensim.models.doc2vec import Doc2Vec\n",
        "import warnings\n",
        "warnings.filterwarnings('ignore')"
      ],
      "execution_count": 4,
      "outputs": []
    },
    {
      "cell_type": "code",
      "metadata": {
        "id": "9eC_RzWXPYns",
        "colab": {
          "base_uri": "https://localhost:8080/",
          "height": 320
        },
        "outputId": "159d414e-96ed-44e1-a4a7-c8471ab4d9d8"
      },
      "source": [
        "import gdown\n",
        "gdown.download('https://drive.google.com/uc?id=1Y5sej5TvdQ2JDHO4HrXvdzhXF9rVV8Aw', 'network-cartoonset100k-onehot.pkl', quiet=False)\n",
        "gdown.download('https://drive.google.com/uc?id=1ZkUGucROLHjnScroWAQR1J8LOz0LLIGo', 'network-cartoonset100k-doc2vec.pkl', quiet=False)\n",
        "gdown.download('https://drive.google.com/uc?id=1xnbUsO-jpIjFV6zFQeOQNxjsIOpLMAfA', 'cartoonset.d2v', quiet=False)\n",
        "gdown.download('https://drive.google.com/uc?id=1B3usl_RhsSl-058IoOnk5gTaUE8hI4RJ', 'cartoonset.d2v.docvecs.vectors_docs.npy', quiet=False)"
      ],
      "execution_count": 5,
      "outputs": [
        {
          "output_type": "stream",
          "text": [
            "Downloading...\n",
            "From: https://drive.google.com/uc?id=1Y5sej5TvdQ2JDHO4HrXvdzhXF9rVV8Aw\n",
            "To: /content/stylegan2/network-cartoonset100k-onehot.pkl\n",
            "352MB [00:03, 93.1MB/s]\n",
            "Downloading...\n",
            "From: https://drive.google.com/uc?id=1ZkUGucROLHjnScroWAQR1J8LOz0LLIGo\n",
            "To: /content/stylegan2/network-cartoonset100k-doc2vec.pkl\n",
            "352MB [00:03, 109MB/s]\n",
            "Downloading...\n",
            "From: https://drive.google.com/uc?id=1xnbUsO-jpIjFV6zFQeOQNxjsIOpLMAfA\n",
            "To: /content/stylegan2/cartoonset.d2v\n",
            "6.95MB [00:00, 40.1MB/s]\n",
            "Downloading...\n",
            "From: https://drive.google.com/uc?id=1B3usl_RhsSl-058IoOnk5gTaUE8hI4RJ\n",
            "To: /content/stylegan2/cartoonset.d2v.docvecs.vectors_docs.npy\n",
            "51.2MB [00:00, 93.7MB/s]\n"
          ],
          "name": "stderr"
        },
        {
          "output_type": "execute_result",
          "data": {
            "application/vnd.google.colaboratory.intrinsic+json": {
              "type": "string"
            },
            "text/plain": [
              "'cartoonset.d2v.docvecs.vectors_docs.npy'"
            ]
          },
          "metadata": {
            "tags": []
          },
          "execution_count": 5
        }
      ]
    },
    {
      "cell_type": "code",
      "metadata": {
        "id": "rDkZ1EmXNkau"
      },
      "source": [
        "model = Doc2Vec.load(\"cartoonset.d2v\")"
      ],
      "execution_count": 6,
      "outputs": []
    },
    {
      "cell_type": "code",
      "metadata": {
        "id": "w1k1YF7zNkbA",
        "colab": {
          "base_uri": "https://localhost:8080/"
        },
        "outputId": "2c28539c-2460-40d4-ead9-27b6e6b3f0fd"
      },
      "source": [
        "import ipywidgets as widgets\n",
        "import pretrained_networks\n",
        "import PIL.Image\n",
        "import numpy as np\n",
        "network_pkl = 'network-cartoonset100k-onehot.pkl'\n",
        "if not USE_ONEHOT:\n",
        "    network_pkl = 'network-cartoonset100k-doc2vec.pkl'\n",
        "_G, _D, Gs = pretrained_networks.load_networks(network_pkl)\n",
        "import dnnlib\n",
        "import dnnlib.tflib as tflib\n",
        "Gs_syn_kwargs = dnnlib.EasyDict()\n",
        "batch_size = 1\n",
        "Gs_syn_kwargs.output_transform = dict(func=tflib.convert_images_to_uint8, nchw_to_nhwc=True)\n",
        "Gs_syn_kwargs.randomize_noise = True\n",
        "Gs_syn_kwargs.minibatch_size = batch_size\n",
        "\n",
        "noise_vars = [var for name, var in Gs.components.synthesis.vars.items() if name.startswith('noise')]\n",
        "\n",
        "def generate_sample(labels, seed=0):\n",
        "    new_im = PIL.Image.new('RGB', (128, 128))\n",
        "    \n",
        "    Gs_kwargs = dnnlib.EasyDict()\n",
        "    Gs_kwargs.output_transform = dict(func=tflib.convert_images_to_uint8, nchw_to_nhwc=True)\n",
        "    Gs_kwargs.randomize_noise = False\n",
        "    rnd = np.random.RandomState(seed)\n",
        "    tflib.set_vars({var: rnd.randn(*var.shape.as_list()) for var in noise_vars}) # [height, width]\n",
        "    batch_size = 1\n",
        "    all_seeds = [seed] * batch_size\n",
        "    all_z = np.stack([np.random.RandomState(seed).randn(*Gs.input_shape[1:]) for seed in all_seeds]) # [minibatch, component]\n",
        "    all_w = Gs.components.mapping.run(all_z, np.tile(labels, (batch_size, 1))) # [minibatch, layer, component]\n",
        "    l = np.matrix(labels)\n",
        "    all_images = Gs.run(all_z, l, **Gs_kwargs)\n",
        "    new_im.paste(PIL.Image.fromarray(np.median(all_images, axis=0).astype(np.uint8)), (0, 0))\n",
        "    display(new_im)\n",
        "    return new_im"
      ],
      "execution_count": 7,
      "outputs": [
        {
          "output_type": "stream",
          "text": [
            "Setting up TensorFlow plugin \"fused_bias_act.cu\": Preprocessing... Compiling... Loading... Done.\n",
            "Setting up TensorFlow plugin \"upfirdn_2d.cu\": Preprocessing... Compiling... Loading... Done.\n"
          ],
          "name": "stdout"
        }
      ]
    },
    {
      "cell_type": "code",
      "metadata": {
        "id": "t_-n51sDemX8"
      },
      "source": [
        "cols = [\n",
        " 'g_chin_length=0',\n",
        " 'g_chin_length=1',\n",
        " 'g_chin_length=2',\n",
        " 'g_eye_angle=0',\n",
        " 'g_eye_angle=1',\n",
        " 'g_eye_angle=2',\n",
        " 'g_eye_color=0',\n",
        " 'g_eye_color=1',\n",
        " 'g_eye_color=2',\n",
        " 'g_eye_color=3',\n",
        " 'g_eye_color=4',\n",
        " 'g_eye_eyebrow_distance=0',\n",
        " 'g_eye_eyebrow_distance=1',\n",
        " 'g_eye_eyebrow_distance=2',\n",
        " 'g_eye_lashes=0',\n",
        " 'g_eye_lashes=1',\n",
        " 'g_eye_lid=0',\n",
        " 'g_eye_lid=1',\n",
        " 'g_eye_slant=0',\n",
        " 'g_eye_slant=1',\n",
        " 'g_eye_slant=2',\n",
        " 'g_eyebrow_shape=0',\n",
        " 'g_eyebrow_shape=1',\n",
        " 'g_eyebrow_shape=10',\n",
        " 'g_eyebrow_shape=11',\n",
        " 'g_eyebrow_shape=12',\n",
        " 'g_eyebrow_shape=13',\n",
        " 'g_eyebrow_shape=2',\n",
        " 'g_eyebrow_shape=3',\n",
        " 'g_eyebrow_shape=4',\n",
        " 'g_eyebrow_shape=5',\n",
        " 'g_eyebrow_shape=6',\n",
        " 'g_eyebrow_shape=7',\n",
        " 'g_eyebrow_shape=8',\n",
        " 'g_eyebrow_shape=9',\n",
        " 'g_eyebrow_thickness=0',\n",
        " 'g_eyebrow_thickness=1',\n",
        " 'g_eyebrow_thickness=2',\n",
        " 'g_eyebrow_thickness=3',\n",
        " 'g_eyebrow_weight=0',\n",
        " 'g_eyebrow_weight=1',\n",
        " 'g_eyebrow_width=0',\n",
        " 'g_eyebrow_width=1',\n",
        " 'g_eyebrow_width=2',\n",
        " 'g_face_color=0',\n",
        " 'g_face_color=1',\n",
        " 'g_face_color=10',\n",
        " 'g_face_color=2',\n",
        " 'g_face_color=3',\n",
        " 'g_face_color=4',\n",
        " 'g_face_color=5',\n",
        " 'g_face_color=6',\n",
        " 'g_face_color=7',\n",
        " 'g_face_color=8',\n",
        " 'g_face_color=9',\n",
        " 'g_face_shape=0',\n",
        " 'g_face_shape=1',\n",
        " 'g_face_shape=2',\n",
        " 'g_face_shape=3',\n",
        " 'g_face_shape=4',\n",
        " 'g_face_shape=5',\n",
        " 'g_face_shape=6',\n",
        " 'g_facial_hair=0',\n",
        " 'g_facial_hair=1',\n",
        " 'g_facial_hair=10',\n",
        " 'g_facial_hair=11',\n",
        " 'g_facial_hair=12',\n",
        " 'g_facial_hair=13',\n",
        " 'g_facial_hair=14',\n",
        " 'g_facial_hair=2',\n",
        " 'g_facial_hair=3',\n",
        " 'g_facial_hair=4',\n",
        " 'g_facial_hair=5',\n",
        " 'g_facial_hair=6',\n",
        " 'g_facial_hair=7',\n",
        " 'g_facial_hair=8',\n",
        " 'g_facial_hair=9',\n",
        " 'g_glasses=0',\n",
        " 'g_glasses=1',\n",
        " 'g_glasses=10',\n",
        " 'g_glasses=11',\n",
        " 'g_glasses=2',\n",
        " 'g_glasses=3',\n",
        " 'g_glasses=4',\n",
        " 'g_glasses=5',\n",
        " 'g_glasses=6',\n",
        " 'g_glasses=7',\n",
        " 'g_glasses=8',\n",
        " 'g_glasses=9',\n",
        " 'g_glasses_color=0',\n",
        " 'g_glasses_color=1',\n",
        " 'g_glasses_color=2',\n",
        " 'g_glasses_color=3',\n",
        " 'g_glasses_color=4',\n",
        " 'g_glasses_color=5',\n",
        " 'g_glasses_color=6',\n",
        " 'g_hair=0',\n",
        " 'g_hair=1',\n",
        " 'g_hair=10',\n",
        " 'g_hair=100',\n",
        " 'g_hair=101',\n",
        " 'g_hair=102',\n",
        " 'g_hair=103',\n",
        " 'g_hair=104',\n",
        " 'g_hair=105',\n",
        " 'g_hair=106',\n",
        " 'g_hair=107',\n",
        " 'g_hair=108',\n",
        " 'g_hair=109',\n",
        " 'g_hair=11',\n",
        " 'g_hair=110',\n",
        " 'g_hair=12',\n",
        " 'g_hair=13',\n",
        " 'g_hair=14',\n",
        " 'g_hair=15',\n",
        " 'g_hair=16',\n",
        " 'g_hair=17',\n",
        " 'g_hair=18',\n",
        " 'g_hair=19',\n",
        " 'g_hair=2',\n",
        " 'g_hair=20',\n",
        " 'g_hair=21',\n",
        " 'g_hair=22',\n",
        " 'g_hair=23',\n",
        " 'g_hair=24',\n",
        " 'g_hair=25',\n",
        " 'g_hair=26',\n",
        " 'g_hair=27',\n",
        " 'g_hair=28',\n",
        " 'g_hair=29',\n",
        " 'g_hair=3',\n",
        " 'g_hair=30',\n",
        " 'g_hair=31',\n",
        " 'g_hair=32',\n",
        " 'g_hair=33',\n",
        " 'g_hair=34',\n",
        " 'g_hair=35',\n",
        " 'g_hair=36',\n",
        " 'g_hair=37',\n",
        " 'g_hair=38',\n",
        " 'g_hair=39',\n",
        " 'g_hair=4',\n",
        " 'g_hair=40',\n",
        " 'g_hair=41',\n",
        " 'g_hair=42',\n",
        " 'g_hair=43',\n",
        " 'g_hair=44',\n",
        " 'g_hair=45',\n",
        " 'g_hair=46',\n",
        " 'g_hair=47',\n",
        " 'g_hair=48',\n",
        " 'g_hair=49',\n",
        " 'g_hair=5',\n",
        " 'g_hair=50',\n",
        " 'g_hair=51',\n",
        " 'g_hair=52',\n",
        " 'g_hair=53',\n",
        " 'g_hair=54',\n",
        " 'g_hair=55',\n",
        " 'g_hair=56',\n",
        " 'g_hair=57',\n",
        " 'g_hair=58',\n",
        " 'g_hair=59',\n",
        " 'g_hair=6',\n",
        " 'g_hair=60',\n",
        " 'g_hair=61',\n",
        " 'g_hair=62',\n",
        " 'g_hair=63',\n",
        " 'g_hair=64',\n",
        " 'g_hair=65',\n",
        " 'g_hair=66',\n",
        " 'g_hair=67',\n",
        " 'g_hair=68',\n",
        " 'g_hair=69',\n",
        " 'g_hair=7',\n",
        " 'g_hair=70',\n",
        " 'g_hair=71',\n",
        " 'g_hair=72',\n",
        " 'g_hair=73',\n",
        " 'g_hair=74',\n",
        " 'g_hair=75',\n",
        " 'g_hair=76',\n",
        " 'g_hair=77',\n",
        " 'g_hair=78',\n",
        " 'g_hair=79',\n",
        " 'g_hair=8',\n",
        " 'g_hair=80',\n",
        " 'g_hair=81',\n",
        " 'g_hair=82',\n",
        " 'g_hair=83',\n",
        " 'g_hair=84',\n",
        " 'g_hair=85',\n",
        " 'g_hair=86',\n",
        " 'g_hair=87',\n",
        " 'g_hair=88',\n",
        " 'g_hair=89',\n",
        " 'g_hair=9',\n",
        " 'g_hair=90',\n",
        " 'g_hair=91',\n",
        " 'g_hair=92',\n",
        " 'g_hair=93',\n",
        " 'g_hair=94',\n",
        " 'g_hair=95',\n",
        " 'g_hair=96',\n",
        " 'g_hair=97',\n",
        " 'g_hair=98',\n",
        " 'g_hair=99',\n",
        " 'g_hair_color=0',\n",
        " 'g_hair_color=1',\n",
        " 'g_hair_color=2',\n",
        " 'g_hair_color=3',\n",
        " 'g_hair_color=4',\n",
        " 'g_hair_color=5',\n",
        " 'g_hair_color=6',\n",
        " 'g_hair_color=7',\n",
        " 'g_hair_color=8',\n",
        " 'g_hair_color=9'\n",
        "]"
      ],
      "execution_count": 8,
      "outputs": []
    },
    {
      "cell_type": "code",
      "metadata": {
        "id": "0MshIbEbenC6"
      },
      "source": [
        "import collections\n",
        "prefixes = []\n",
        "for col in cols:\n",
        "    prefix = col[2:].split(\"=\")[0]\n",
        "    prefixes.append(prefix)\n",
        "pre_counter = collections.Counter(prefixes)"
      ],
      "execution_count": 9,
      "outputs": []
    },
    {
      "cell_type": "markdown",
      "metadata": {
        "id": "pV2MS58fh2Xk"
      },
      "source": [
        "# Play around with the model"
      ]
    },
    {
      "cell_type": "code",
      "metadata": {
        "id": "sMDjKCEQepvG",
        "colab": {
          "base_uri": "https://localhost:8080/",
          "height": 182
        },
        "outputId": "a76952fd-5b66-4e0c-af4b-668f98cac6e8"
      },
      "source": [
        "#@title Customize your player { run: \"auto\" }\n",
        "chin_length = 3 #@param {type:\"slider\", step:1, min:0, max: 3}\n",
        "eye_angle = 2 #@param {type:\"slider\", step:1, min:0, max: 3}\n",
        "eye_color = 3 #@param {type:\"slider\", step:1, min:0, max: 5}\n",
        "eye_eyebrow_distance = 2 #@param {type:\"slider\", step:1, min:0, max: 3}\n",
        "eye_lashes = 2 #@param {type:\"slider\", step:1, min:0, max: 2}\n",
        "eye_lid = 1 #@param {type:\"slider\", step:1, min:0, max: 2}\n",
        "eye_slant = 0 #@param {type:\"slider\", step:1, min:0, max: 3}\n",
        "eyebrow_shape = 8 #@param {type:\"slider\", step:1, min:0, max: 14}\n",
        "eyebrow_thickness = 0 #@param {type:\"slider\", step:1, min:0, max: 4}\n",
        "eyebrow_weight = 0 #@param {type:\"slider\", step:1, min:0, max: 2}\n",
        "eyebrow_width = 1 #@param {type:\"slider\", step:1, min:0, max: 3}\n",
        "face_color = 9 #@param {type:\"slider\", step:1, min:0, max: 11}\n",
        "face_shape = 3 #@param {type:\"slider\", step:1, min:0, max: 7}\n",
        "facial_hair = 10 #@param {type:\"slider\", step:1, min:0, max: 15}\n",
        "glasses = 3 #@param {type:\"slider\", step:1, min:0, max: 12}\n",
        "glasses_color = 4 #@param {type:\"slider\", step:1, min:0, max: 7}\n",
        "hair = 88 #@param {type:\"slider\", step:1, min:0, max: 111}\n",
        "hair_color = 5 #@param {type:\"slider\", step:1, min:0, max: 10}\n",
        "\n",
        "one_hot_array = np.zeros(217)\n",
        "tags = []\n",
        "accum = 0\n",
        "for pre, count in pre_counter.items():\n",
        "    #print(pre, count)\n",
        "    index = accum + globals()[pre]\n",
        "    one_hot_array[index] = 1\n",
        "    accum += count\n",
        "    string_tag = pre + \"=\" + str(globals()[pre])\n",
        "    tags.append(string_tag)\n",
        "    \n",
        "tag_vec = model.infer_vector(tags)\n",
        "print(tags)\n",
        "#one_hot_array\n",
        "if USE_ONEHOT:\n",
        "    generate_sample(one_hot_array)\n",
        "else:\n",
        "    generate_sample(tag_vec)\n"
      ],
      "execution_count": 14,
      "outputs": [
        {
          "output_type": "stream",
          "text": [
            "['chin_length=3', 'eye_angle=2', 'eye_color=3', 'eye_eyebrow_distance=2', 'eye_lashes=2', 'eye_lid=1', 'eye_slant=0', 'eyebrow_shape=8', 'eyebrow_thickness=0', 'eyebrow_weight=0', 'eyebrow_width=1', 'face_color=9', 'face_shape=3', 'facial_hair=10', 'glasses=3', 'glasses_color=4', 'hair=88', 'hair_color=5']\n"
          ],
          "name": "stdout"
        },
        {
          "output_type": "display_data",
          "data": {
            "image/png": "[encoded data removed]",
            "text/plain": [
              "<PIL.Image.Image image mode=RGB size=128x128 at 0x7FADEB1793D0>"
            ]
          },
          "metadata": {
            "tags": []
          }
        }
      ]
    }
  ]
}