{
 "cells": [
  {
   "cell_type": "code",
   "execution_count": 1,
   "metadata": {},
   "outputs": [],
   "source": [
    "import torch\n",
    "from dalle_pytorch import DiscreteVAE\n",
    "\n",
    "vae = DiscreteVAE(\n",
    "    image_size = 256,\n",
    "    num_layers = 3,         # number of downsamples - ex. 256 / (2 ** 3) = (32 x 32 feature map)\n",
    "    num_resnet_blocks = 1,  # number of residual blocks at each layer\n",
    "    num_tokens = 1024,      # number of visual tokens. iGPT had 512, so probably should have more\n",
    "    codebook_dim = 512,     # codebook dimension\n",
    "    hidden_dim = 64,        # hidden dimension\n",
    "    temperature = 0.9       # gumbel softmax temperature, the lower this is, the more hard the discretization\n",
    ")\n",
    "\n",
    "images = torch.randn(4, 3, 256, 256)\n",
    "\n",
    "loss = vae(images, return_recon_loss = True)\n",
    "loss.backward()"
   ]
  },
  {
   "cell_type": "code",
   "execution_count": 4,
   "metadata": {},
   "outputs": [
    {
     "ename": "ImportError",
     "evalue": "cannot import name 'generate_images' from 'dalle_pytorch' (C:\\ProgramData\\Anaconda3\\envs\\rl\\lib\\site-packages\\dalle_pytorch\\__init__.py)",
     "output_type": "error",
     "traceback": [
      "\u001b[1;31m---------------------------------------------------------------------------\u001b[0m",
      "\u001b[1;31mImportError\u001b[0m                               Traceback (most recent call last)",
      "\u001b[1;32m<ipython-input-4-416f862ada55>\u001b[0m in \u001b[0;36m<module>\u001b[1;34m\u001b[0m\n\u001b[1;32m----> 1\u001b[1;33m \u001b[1;32mfrom\u001b[0m \u001b[0mdalle_pytorch\u001b[0m \u001b[1;32mimport\u001b[0m \u001b[0mgenerate_images\u001b[0m\u001b[1;33m\u001b[0m\u001b[1;33m\u001b[0m\u001b[0m\n\u001b[0m\u001b[0;32m      2\u001b[0m \u001b[1;33m\u001b[0m\u001b[0m\n\u001b[0;32m      3\u001b[0m images = generate_images(\n\u001b[0;32m      4\u001b[0m     \u001b[0mdalle\u001b[0m\u001b[1;33m,\u001b[0m\u001b[1;33m\u001b[0m\u001b[1;33m\u001b[0m\u001b[0m\n\u001b[0;32m      5\u001b[0m     \u001b[0mvae\u001b[0m \u001b[1;33m=\u001b[0m \u001b[0mvae\u001b[0m\u001b[1;33m,\u001b[0m\u001b[1;33m\u001b[0m\u001b[1;33m\u001b[0m\u001b[0m\n",
      "\u001b[1;31mImportError\u001b[0m: cannot import name 'generate_images' from 'dalle_pytorch' (C:\\ProgramData\\Anaconda3\\envs\\rl\\lib\\site-packages\\dalle_pytorch\\__init__.py)"
     ]
    }
   ],
   "source": [
    "from dalle_pytorch import generate_images\n",
    "\n",
    "images = generate_images(\n",
    "    dalle,\n",
    "    vae = vae,\n",
    "    text = text,\n",
    "    mask = mask\n",
    ")\n",
    "\n",
    "images.shape # (2, 3, 256, 256)"
   ]
  },
  {
   "cell_type": "code",
   "execution_count": null,
   "metadata": {},
   "outputs": [],
   "source": []
  }
 ],
 "metadata": {
  "kernelspec": {
   "display_name": "rl",
   "language": "python",
   "name": "rl"
  },
  "language_info": {
   "codemirror_mode": {
    "name": "ipython",
    "version": 3
   },
   "file_extension": ".py",
   "mimetype": "text/x-python",
   "name": "python",
   "nbconvert_exporter": "python",
   "pygments_lexer": "ipython3",
   "version": "3.7.5"
  }
 },
 "nbformat": 4,
 "nbformat_minor": 4
}
