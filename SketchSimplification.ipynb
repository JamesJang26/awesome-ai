{
 "cells": [
  {
   "cell_type": "markdown",
   "metadata": {},
   "source": [
    "# Sketch Simplification"
   ]
  },
  {
   "cell_type": "markdown",
   "metadata": {},
   "source": [
    "References:\n",
    "    \n",
    "Smart Inker\n",
    "\n",
    "bobbens/sketch_simplification: Models and code related to sketch simplification of rough sketches. (github.com)\n",
    "https://github.com/bobbens/sketch_simplification\n",
    "\n",
    "Edgar Simo-Serra・Mastering Sketching (esslab.jp)\n",
    "https://esslab.jp/~ess/en/research/sketch_master/\n",
    "\n",
    "hepesu/LineRelifer: A data-driven line art refiner for line-drawing stylization using Keras. (github.com)\n",
    "https://github.com/hepesu/LineRelifer/\n"
   ]
  },
  {
   "cell_type": "code",
   "execution_count": null,
   "metadata": {},
   "outputs": [],
   "source": []
  }
 ],
 "metadata": {
  "kernelspec": {
   "display_name": "rl",
   "language": "python",
   "name": "rl"
  },
  "language_info": {
   "codemirror_mode": {
    "name": "ipython",
    "version": 3
   },
   "file_extension": ".py",
   "mimetype": "text/x-python",
   "name": "python",
   "nbconvert_exporter": "python",
   "pygments_lexer": "ipython3",
   "version": "3.7.5"
  }
 },
 "nbformat": 4,
 "nbformat_minor": 4
}
