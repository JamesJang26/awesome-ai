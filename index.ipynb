{
 "cells": [
  {
   "cell_type": "markdown",
   "metadata": {},
   "source": [
    "# Awesome Artificial Intelligence: Design, Art, Gaming (Illustrated)\n",
    "Book by Kevin Ashley\n",
    "\n",
    "\"Awesome Artificial Intelligence: Design Art, Gaming\", is a richly illustrated guide to AI for anyone interested in expanding creativity with artificial intelligence: create AI enhanced design, illustration, gaming and media.  This project includes my original artwork available as part of some rewards.  \n",
    "\n",
    "![http://kevinashley.com](images/banner.png)\n",
    "\n",
    "In this book you’ll find many answers to questions about AI that you always wanted to ask but were afraid to “because everyone knows how this AI thing works anyway\". Trust me, some very smart people I’ve been talking to, including CEOs of technology companies, technical gurus and authors of languages you use every day admit they know little about machine learning.\n",
    "\n",
    "## About the author\n",
    "\n",
    "I authored several books and courses on AI and technology, including AI in Sports with Python, Applied Machine Learning in Health and Fitness. I'm a Microsoft developer Hall of Fame engineer, author of popular sports, fitness and gaming apps, Skype featured bots and cloud platforms such as Active Fitness and Winter Sports with several million users. I'm also a passionate technical speaker, founder of several startups and ventures, including mobile, sports, fitness, and cloud.\n",
    "\n",
    "## About the book\n",
    "\n",
    "My first book on AI was fairly technical: I wrote it for geeks and data scientists who want to learn about practical methods of applying AI in the field. So, I decided to write a book about Artificial Intelligence for a broader audience: students, businesspeople, artists, technologists who need ideas, concepts and understanding on what works and what doesn’t with AI.\n",
    "I soon realized that most of my readers are passionate about AI and want to discover it and apply it in multiple areas: business, technology, finance, arts, music, health, fitness, robotics, media, games, sport, you name it! In fact, 70% of those reading my posts on Linkedin are managers, founders or partners.\n",
    " In this book you’ll find lots of answers to interesting “how does AI work” questions, sprinkled with illustrations and curious facts about AI. You can always refer to my course on AI that has lots of practical examples, notebooks and code.\n",
    "In this book, we’ll talk about the awesomeness of AI! \n",
    "\n"
   ]
  },
  {
   "cell_type": "markdown",
   "metadata": {},
   "source": [
    "## Table of Contents\n",
    "\n",
    "Please, use these supplemental materials and code for the video tutorial [Awesome AI: Design, Art, Games](http://ai-learning.vhx.tv). \n",
    "\n",
    "For notebooks, it is recommended that your kernel environment is set to Python 3. Check [requirements.txt](requirements.txt) for dependencies. Some notebooks are available in playground environments like Google Colab and Binder.\n",
    "\n",
    "- Chapter 1. Artificial Intelligence 101 \n",
    "    - Artificial Intelligence 101 ([Video](https://ai-learning.vhx.tv/packages/ai-in-sports-with-python/videos/ai-in-sports-ep-1-1-introduction))\n",
    "    - Neural Networks ([Video](https://ai-learning.vhx.tv/packages/ai-in-sports-with-python/videos/ai-in-sports-ep-1-1-introduction))\n",
    "    - Multi-Layer Networks ([Video](https://ai-learning.vhx.tv/packages/ai-in-sports-with-python/videos/ai-in-sports-ep-1-1-introduction))\n",
    "    - Neural Atlases ([Video](https://ai-learning.vhx.tv/packages/ai-in-sports-with-python/videos/ai-in-sports-ep-1-1-introduction))\n",
    "- Chapter 2. Creative AI Tools\n",
    "- Chapter 3. Drawing and Sketching with AI\n",
    "    - Sketching with AI ([Notebook](Face.ipynb))\n",
    "    - Lineart with AI ([Notebook](Face.ipynb))\n",
    "    - Light and Shading with AI ([Notebook](Face.ipynb))\n",
    "    - Coloring with AI ([Notebook](Face.ipynb))\n",
    "    - Tips for drawing with AI ([Notebook](Face.ipynb))\n",
    "- Chapter 4. Faces with AI\n",
    "    - Face Detection ([Notebook](Face.ipynb))\n",
    "    - Facial Landmarks and Attributes ([Notebook](Face.ipynb))\n",
    "    - Eyes ([Notebook](Face.ipynb))\n",
    "    - 3D Face Orientation ([Notebook](Face.ipynb))\n",
    "    - Emotions and Facial Expressions ([Notebook](Face.ipynb))\n",
    "    - Generate Faces ([Notebook](GenerateFaces.ipynb))\n",
    "    - Tips for applying AI to faces ([Notebook](Face.ipynb))\n",
    "- Chapter 5. Body and Poses with AI\n",
    "    - Keypoints and joints with AI ([Notebook](Face.ipynb))\n",
    "    - Pose Estimation ([Notebook](Face.ipynb))\n",
    "    - Datasets 2D ([Notebook](Face.ipynb))\n",
    "    - Datasets 3D ([Notebook](Face.ipynb))\n",
    "    - Tips for using AI with human body ([Notebook](Face.ipynb))\n",
    "- Chapter 6. Creativity and Style with AI\n",
    "    - Activation Atlases ([Article](https://ai.googleblog.com/2018/03/the-building-blocks-of-interpretability.html)|[Colab](https://colab.research.google.com/github/tensorflow/lucid/blob/master/notebooks/activation-atlas/activation-atlas-simple.ipynb)) \n",
    "    - Patterns ([Article](https://distill.pub/2018/differentiable-parameterizations/)|)\n",
    "    - Style Transfer(|[Original Colab](https://colab.research.google.com/github/tensorflow/lucid/blob/master/notebooks/differentiable-parameterizations/style_transfer_2d.ipynb)|[Colab](https://colab.research.google.com/drive/1Yia9N6r3sMK04zjFAJUqD3GA4XPA4Qjz))\n",
    "- Chapter 7. Design, Landscapes and Buildings with AI\n",
    "- Chapter 8. Animation, Movies and Games with AI\n",
    "- Chapter 9. Challenges of AI\n",
    "\n",
    "\n",
    "    "
   ]
  },
  {
   "cell_type": "code",
   "execution_count": null,
   "metadata": {},
   "outputs": [],
   "source": []
  }
 ],
 "metadata": {
  "kernelspec": {
   "display_name": "rl",
   "language": "python",
   "name": "rl"
  },
  "language_info": {
   "codemirror_mode": {
    "name": "ipython",
    "version": 3
   },
   "file_extension": ".py",
   "mimetype": "text/x-python",
   "name": "python",
   "nbconvert_exporter": "python",
   "pygments_lexer": "ipython3",
   "version": "3.7.5"
  }
 },
 "nbformat": 4,
 "nbformat_minor": 4
}
